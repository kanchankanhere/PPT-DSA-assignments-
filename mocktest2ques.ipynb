{
 "cells": [
  {
   "cell_type": "markdown",
   "id": "9aa92f1f-e537-41aa-9876-7ea8f963a54f",
   "metadata": {},
   "source": [
    "First Unique Character in a String\n",
    "\n",
    "Given a string s, find the first non-repeating character in it and return its index. If it does not exist, return -1.\n",
    "\n",
    "Example 1:\n",
    "Input: s = \"leetcode\"\n",
    "Output: 0\n",
    "\n",
    "Example 2:\n",
    "Input: s = \"loveleetcode\"\n",
    "Output: 2\n",
    "\n",
    "Example 3:\n",
    "Input: s = \"aabb\"\n",
    "Output: -1\n",
    "\n",
    "Constraints:\n",
    "a. 1 <= s.length <= 10^5\n",
    "b. s consists of only lowercase English letters."
   ]
  },
  {
   "cell_type": "code",
   "execution_count": 10,
   "id": "918c489f-c597-4dcb-a062-473e7c19c7b2",
   "metadata": {},
   "outputs": [],
   "source": [
    "#Answer\n",
    "\n",
    "def first_non_repeating_character(s):\n",
    "    char_count = {}\n",
    "    for char in s :\n",
    "        char_count[char] = char_count.get(char, 0) + 1\n",
    "        \n",
    "    for i in range(len(s)) :\n",
    "        if char_count[s[i]] == 1 :\n",
    "            return i\n",
    "        \n",
    "    return -1 "
   ]
  },
  {
   "cell_type": "code",
   "execution_count": 11,
   "id": "7655c85f-182d-4a1f-ab37-8101b1b844ea",
   "metadata": {},
   "outputs": [
    {
     "name": "stdout",
     "output_type": "stream",
     "text": [
      "0\n",
      "2\n",
      "-1\n"
     ]
    }
   ],
   "source": [
    "print(first_non_repeating_character(\"leetcode\"))\n",
    "print(first_non_repeating_character(\"loveleetcode\"))\n",
    "print(first_non_repeating_character(\"aabb\"))"
   ]
  }
 ],
 "metadata": {
  "kernelspec": {
   "display_name": "Python 3 (ipykernel)",
   "language": "python",
   "name": "python3"
  },
  "language_info": {
   "codemirror_mode": {
    "name": "ipython",
    "version": 3
   },
   "file_extension": ".py",
   "mimetype": "text/x-python",
   "name": "python",
   "nbconvert_exporter": "python",
   "pygments_lexer": "ipython3",
   "version": "3.10.8"
  }
 },
 "nbformat": 4,
 "nbformat_minor": 5
}

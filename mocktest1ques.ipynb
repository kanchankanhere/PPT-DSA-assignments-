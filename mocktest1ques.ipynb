{
 "cells": [
  {
   "cell_type": "markdown",
   "id": "3332fe4c-c78c-4599-8e26-d5b9f72b28ef",
   "metadata": {},
   "source": [
    "Question\n",
    "Move Zeroes\n",
    "\n",
    "Given an integer array nums, move all 0's to the end of it while maintaining the relative order of the non-zero elements.\n",
    "\n",
    "Note that you must do this in-place without making a copy of the array.\n",
    "\n",
    "Example 1:\n",
    "Input: nums = [0,1,0,3,12]\n",
    "Output: [1,3,12,0,0]\n",
    "\n",
    "Example 2:\n",
    "Input: nums = [0]\n",
    "Output: [0]\n",
    "\n",
    "Constraints:\n",
    "a. 1 <= nums.length <= 10^4\n",
    "b. -2^31 <= nums[i] <= 2^31 - 1 "
   ]
  },
  {
   "cell_type": "code",
   "execution_count": 15,
   "id": "7aedf211-30ce-474c-9ffa-b8355761dd3b",
   "metadata": {},
   "outputs": [],
   "source": [
    "#Answer\n",
    "def move_zeros_to_end(nums):\n",
    "    count = 0 # pointer for the next non-zero element\n",
    "    \n",
    "    #Iterate over the array\n",
    "    for i in range(len(nums)):\n",
    "        if nums[i] != 0 :\n",
    "            nums[count] = nums[i]\n",
    "            count += 1\n",
    "            \n",
    "    for i in range(count, len(nums)):\n",
    "        nums[i] = 0\n",
    "        \n",
    "    return nums\n"
   ]
  },
  {
   "cell_type": "code",
   "execution_count": 16,
   "id": "405ec493-546a-4b29-8989-a8fcd6a9ac5f",
   "metadata": {},
   "outputs": [
    {
     "name": "stdout",
     "output_type": "stream",
     "text": [
      "[1, 3, 12, 0, 0]\n",
      "[0]\n"
     ]
    }
   ],
   "source": [
    "print(move_zeros_to_end([0, 1, 0, 3, 12]))\n",
    "print(move_zeros_to_end([0]))"
   ]
  }
 ],
 "metadata": {
  "kernelspec": {
   "display_name": "Python 3 (ipykernel)",
   "language": "python",
   "name": "python3"
  },
  "language_info": {
   "codemirror_mode": {
    "name": "ipython",
    "version": 3
   },
   "file_extension": ".py",
   "mimetype": "text/x-python",
   "name": "python",
   "nbconvert_exporter": "python",
   "pygments_lexer": "ipython3",
   "version": "3.10.8"
  }
 },
 "nbformat": 4,
 "nbformat_minor": 5
}

{
 "cells": [
  {
   "cell_type": "markdown",
   "id": "3895b7ab-5714-4964-9d7d-bcd8803a3d43",
   "metadata": {},
   "source": [
    "**Q1.** Given an array of integers nums and an integer target, return indices of the two numbers such that they add up to target.\n",
    "\n",
    "You may assume that each input would have exactly one solution, and you may not use the same element twice.\n",
    "\n",
    "You can return the answer in any order.\n",
    "\n",
    "**Example:**\n",
    "Input: nums = [2,7,11,15], target = 9\n",
    "Output0 [0,1]\n",
    "\n",
    "**Explanation:** Because nums[0] + nums[1] == 9, we return [0, 1]["
   ]
  },
  {
   "cell_type": "markdown",
   "id": "b2237c37-a805-459f-b4ed-491617ab833f",
   "metadata": {},
   "source": [
    "Answer"
   ]
  },
  {
   "cell_type": "code",
   "execution_count": 9,
   "id": "c33fe77c-9e6c-458e-a7b9-10cd2ae10828",
   "metadata": {},
   "outputs": [],
   "source": [
    "def two_sum(nums, target) :\n",
    "    num_dict = {}\n",
    "    for i, num in enumerate(nums) :\n",
    "        complement = target - num\n",
    "        if complement in num_dict :\n",
    "            return [num_dict[complement], i]\n",
    "        else :\n",
    "           num_dict[num] = i\n",
    "    return []"
   ]
  },
  {
   "cell_type": "code",
   "execution_count": 10,
   "id": "1eda3244-eb15-41fd-a2f4-3e559d11e0f4",
   "metadata": {},
   "outputs": [
    {
     "name": "stdout",
     "output_type": "stream",
     "text": [
      "[0, 1]\n"
     ]
    }
   ],
   "source": [
    "nums = [2,7,11,15]\n",
    "\n",
    "target = 9\n",
    "\n",
    "result = two_sum(nums, target)\n",
    "\n",
    "print(result)"
   ]
  },
  {
   "cell_type": "markdown",
   "id": "d28a2102-d5be-4d8d-b2e8-70b1ad74088a",
   "metadata": {},
   "source": [
    "< **Q2.** Given an integer array nums and an integer val, remove all occurrences of val in nums in-place. The order of the elements may be changed. Then return the number of elements in nums which are not equal to val.\n",
    "\n",
    "Consider the number of elements in nums which are not equal to val be k, to get accepted, you need to do the following things:\n",
    "\n",
    "- Change the array nums such that the first k elements of nums contain the elements which are not equal to val. The remaining elements of nums are not important as well as the size of nums.\n",
    "- Return k.\n",
    "\n",
    "**Example :**\n",
    "Input: nums = [3,2,2,3], val = 3\n",
    "Output: 2, nums = [2,2,_*,_*]\n",
    "\n",
    "**Explanation:** Your function should return k = 2, with the first two elements of nums being 2. It does not matter what you leave beyond the returned k (hence they are underscores)[\n",
    "\n"
   ]
  },
  {
   "cell_type": "markdown",
   "id": "5622b08e-99b7-41ae-9baf-eebf63da6b24",
   "metadata": {},
   "source": [
    "Answer"
   ]
  },
  {
   "cell_type": "code",
   "execution_count": 14,
   "id": "0892a3f3-5eea-451e-8a34-b2592c4ab1e3",
   "metadata": {},
   "outputs": [],
   "source": [
    "def remove_element(nums, val) :\n",
    "    \"\"\"\n",
    "    Removes all occurence of val in nums in-place.\n",
    "    \n",
    "    Args :\n",
    "    nums: The array to remove val from.\n",
    "    val: the value to remove.\n",
    "    \n",
    "    Returns:\n",
    "     The number of elements in num which are not equal to val.\n",
    "     \"\"\"\n",
    "    l = 0\n",
    "    r = len(nums) - 1\n",
    "    \n",
    "    while l <= r :\n",
    "        if nums[l] == val :\n",
    "            nums[l] = nums[r]\n",
    "            r -= 1\n",
    "        else:\n",
    "            l += 1\n",
    "    return l"
   ]
  },
  {
   "cell_type": "code",
   "execution_count": 15,
   "id": "be125d5d-2e34-4b3d-955a-aed0d84e0148",
   "metadata": {},
   "outputs": [
    {
     "name": "stdout",
     "output_type": "stream",
     "text": [
      "2\n",
      "[2, 2, 2, 3]\n"
     ]
    }
   ],
   "source": [
    "nums = [3,2,2,3]\n",
    "val = 3\n",
    "\n",
    "print(remove_element(nums, val))\n",
    "print(nums)\n"
   ]
  },
  {
   "cell_type": "markdown",
   "id": "3427c58b-0b6b-4e0a-9406-da87fdff9e07",
   "metadata": {},
   "source": [
    "**Q3.** Given a sorted array of distinct integers and a target value, return the index if the target is found. If not, return the index where it would be if it were inserted in order.\n",
    "\n",
    "You must write an algorithm with O(log n) runtime complexity.\n",
    "\n",
    "**Example 1:**\n",
    "Input: nums = [1,3,5,6], target = 5\n",
    "\n",
    "Output: 2"
   ]
  },
  {
   "cell_type": "markdown",
   "id": "b8f01b14-af50-457d-9fa7-8c4ee0624d75",
   "metadata": {},
   "source": [
    "Answer"
   ]
  },
  {
   "cell_type": "code",
   "execution_count": 16,
   "id": "8a92222c-40ab-4dc6-9fe4-e79aba28ffeb",
   "metadata": {},
   "outputs": [],
   "source": [
    "def search_insert(nums, target) :\n",
    "    l = 0\n",
    "    r = len(nums) - 1\n",
    "    \n",
    "    while l <= r :\n",
    "        mid = l + (r - l) // 2\n",
    "        \n",
    "        if nums[mid] == target :\n",
    "            return mid\n",
    "        elif nums[mid] < target :\n",
    "            l = mid + 1\n",
    "        else :\n",
    "            r = mid - 1\n",
    "            \n",
    "    return l"
   ]
  },
  {
   "cell_type": "code",
   "execution_count": 17,
   "id": "7745a27e-146d-439f-958c-25762d189b5d",
   "metadata": {},
   "outputs": [
    {
     "name": "stdout",
     "output_type": "stream",
     "text": [
      "2\n"
     ]
    }
   ],
   "source": [
    "nums = [1,3,5,6]\n",
    "target = 5\n",
    "\n",
    "print(search_insert(nums, target))"
   ]
  },
  {
   "cell_type": "markdown",
   "id": "56eb50a2-bae5-4573-95f5-c5213c8318ad",
   "metadata": {},
   "source": [
    "**Q4.** You are given a large integer represented as an integer array digits, where each digits[i] is the ith digit of the integer. The digits are ordered from most significant to least significant in left-to-right order. The large integer does not contain any leading 0's.\n",
    "\n",
    "Increment the large integer by one and return the resulting array of digits.\n",
    "\n",
    "**Example 1:**\n",
    "Input: digits = [1,2,3]\n",
    "Output: [1,2,4]\n",
    "\n",
    "**Explanation:** The array represents the integer 123.\n",
    "\n",
    "Incrementing by one gives 123 + 1 = 124.\n",
    "Thus, the result should be [1,2,4]."
   ]
  },
  {
   "cell_type": "markdown",
   "id": "169ac699-4942-4f7a-80d6-7c3a82b01465",
   "metadata": {},
   "source": [
    "Answer"
   ]
  },
  {
   "cell_type": "code",
   "execution_count": 18,
   "id": "78894c87-83be-4a42-8d4a-e6b23ddf7282",
   "metadata": {},
   "outputs": [],
   "source": [
    "def plus_one(digits) :\n",
    "    n = len(digits)\n",
    "    for i in range(n - 1, -1, -1) :\n",
    "        if digits[i] < 9 :\n",
    "            digits[i] += 1\n",
    "            return digits\n",
    "        digits[i] = 0\n",
    "        \n",
    "# If we reach this point, it means all digits were 9\n",
    "    return [1] + digits\n",
    "    "
   ]
  },
  {
   "cell_type": "code",
   "execution_count": 19,
   "id": "33a48ed1-bf5c-4cdf-8ed8-84d67e651837",
   "metadata": {},
   "outputs": [
    {
     "name": "stdout",
     "output_type": "stream",
     "text": [
      "[1, 2, 4]\n"
     ]
    }
   ],
   "source": [
    "digits = [1,2,3]\n",
    "\n",
    "print(plus_one(digits))"
   ]
  },
  {
   "cell_type": "markdown",
   "id": "1de7e0f7-6ec3-405e-882e-6fd7d8e64eac",
   "metadata": {},
   "source": [
    "**Q5.** You are given two integer arrays nums1 and nums2, sorted in non-decreasing order, and two integers m and n, representing the number of elements in nums1 and nums2 respectively.\n",
    "\n",
    "Merge nums1 and nums2 into a single array sorted in non-decreasing order.\n",
    "\n",
    "The final sorted array should not be returned by the function, but instead be stored inside the array nums1. To accommodate this, nums1 has a length of m + n, where the first m elements denote the elements that should be merged, and the last n elements are set to 0 and should be ignored. nums2 has a length of n.\n",
    "\n",
    "**Example 1:**\n",
    "Input: nums1 = [1,2,3,0,0,0], m = 3, nums2 = [2,5,6], n = 3\n",
    "Output: [1,2,2,3,5,6]\n",
    "\n",
    "**Explanation:** The arrays we are merging are [1,2,3] and [2,5,6].\n",
    "The result of the merge is [1,2,2,3,5,6] with the underlined elements coming from nums1.\n"
   ]
  },
  {
   "cell_type": "markdown",
   "id": "ef57add0-39a7-48c6-a6fb-3b7ea1f3cbb0",
   "metadata": {},
   "source": [
    "Answer"
   ]
  },
  {
   "cell_type": "code",
   "execution_count": 20,
   "id": "d6d435d2-3788-4eb3-8714-ee65b549ad56",
   "metadata": {},
   "outputs": [],
   "source": [
    "def merge(nums1, m, nums2, n) :\n",
    "    p1 = m - 1 \n",
    "    p2 = n - 1\n",
    "    p = m + n - 1\n",
    "    \n",
    "    while p1 >= 0 and p2 >= 0 :\n",
    "        if nums1[p1] > nums2[p2] :\n",
    "            nums1[p] = nums1[p1]\n",
    "            p1 -= 1\n",
    "        else :\n",
    "            nums1[p] = nums2[p2]\n",
    "            p2 -= 1\n",
    "        p -= 1\n",
    "        \n",
    "    while p2 >= 0 :\n",
    "        nums1[p] = nums2[p2]\n",
    "        p2 -= 1\n",
    "        p -= 1"
   ]
  },
  {
   "cell_type": "code",
   "execution_count": 21,
   "id": "7de1454b-8449-40a0-8396-c4b4ab41b94b",
   "metadata": {},
   "outputs": [
    {
     "name": "stdout",
     "output_type": "stream",
     "text": [
      "[1, 2, 2, 3, 5, 6]\n"
     ]
    }
   ],
   "source": [
    "nums1 = [1,2,3,0,0,0]\n",
    "m = 3\n",
    "nums2 = [2,5,6]\n",
    "n = 3\n",
    "merge(nums1, m, nums2, n)\n",
    "print(nums1)"
   ]
  },
  {
   "cell_type": "markdown",
   "id": "f07c19d0-9574-46b5-8b24-67d3e7dc0441",
   "metadata": {},
   "source": [
    " **Q6.** Given an integer array nums, return true if any value appears at least twice in the array, and return false if every element is distinct.\n",
    "\n",
    "**Example 1:**\n",
    "Input: nums = [1,2,3,1]\n",
    "\n",
    "Output: true"
   ]
  },
  {
   "cell_type": "markdown",
   "id": "bc3c62af-7414-4eb5-9631-543e141b9f63",
   "metadata": {},
   "source": [
    "Answer"
   ]
  },
  {
   "cell_type": "code",
   "execution_count": 30,
   "id": "4dff0a3c-d50c-475c-b8da-8cf30f03d95d",
   "metadata": {},
   "outputs": [],
   "source": [
    "def contains_duplicate(nums) :\n",
    "    num_set = set()\n",
    "    \n",
    "    for num in nums :\n",
    "        if num in num_set :\n",
    "            return True\n",
    "        else:\n",
    "            num_set.add(num)\n",
    "            \n",
    "    return False\n"
   ]
  },
  {
   "cell_type": "code",
   "execution_count": 31,
   "id": "2f0c0fbd-e48d-456b-8bfc-cc001ec8dc25",
   "metadata": {},
   "outputs": [
    {
     "name": "stdout",
     "output_type": "stream",
     "text": [
      "True\n"
     ]
    }
   ],
   "source": [
    "nums = [1,2,3,1]\n",
    "\n",
    "print(contains_duplicate(nums))"
   ]
  },
  {
   "cell_type": "markdown",
   "id": "62fcf9c9-a125-4396-8cf4-b95b1e9cc0f0",
   "metadata": {},
   "source": [
    " **Q7.** Given an integer array nums, move all 0's to the end of it while maintaining the relative order of the nonzero elements.\n",
    "\n",
    "Note that you must do this in-place without making a copy of the array.\n",
    "\n",
    "**Example 1:**\n",
    "Input: nums = [0,1,0,3,12]\n",
    "Output: [1,3,12,0,0]\n"
   ]
  },
  {
   "cell_type": "markdown",
   "id": "3b650e3a-e524-4277-88ca-eb65aa45af87",
   "metadata": {},
   "source": [
    "Answer"
   ]
  },
  {
   "cell_type": "code",
   "execution_count": 32,
   "id": "22368fbf-f000-420c-a7b5-c31881433813",
   "metadata": {},
   "outputs": [],
   "source": [
    "def move_zeros(nums) :\n",
    "    l = 0\n",
    "    r = 0\n",
    "    \n",
    "    while l < len(nums) :\n",
    "        if nums[l] != 0 :\n",
    "            nums[l], nums[r] = nums[r], nums[l]\n",
    "            r += 1\n",
    "        l += 1\n",
    "        \n",
    "    while r < len(nums) :\n",
    "        nums[r] = 0\n",
    "        r += 1\n",
    "        \n",
    "    return nums"
   ]
  },
  {
   "cell_type": "code",
   "execution_count": 33,
   "id": "85126997-13cf-4906-8dd8-e4718316f8de",
   "metadata": {},
   "outputs": [
    {
     "name": "stdout",
     "output_type": "stream",
     "text": [
      "[1, 3, 12, 0, 0]\n"
     ]
    }
   ],
   "source": [
    "nums = [0,1,0,3,12]\n",
    "result = move_zeros(nums)\n",
    "print(result)"
   ]
  },
  {
   "cell_type": "markdown",
   "id": "ddc110b5-2648-4051-9ad2-dc8624262adf",
   "metadata": {},
   "source": [
    " **Q8.** You have a set of integers s, which originally contains all the numbers from 1 to n. Unfortunately, due to some error, one of the numbers in s got duplicated to another number in the set, which results in repetition of one number and loss of another number.\n",
    "\n",
    "You are given an integer array nums representing the data status of this set after the error.\n",
    "\n",
    "Find the number that occurs twice and the number that is missing and return them in the form of an array.\n",
    "\n",
    "**Example 1:**\n",
    "Input: nums = [1,2,2,4]\n",
    "Output: [2,3]\n"
   ]
  },
  {
   "cell_type": "markdown",
   "id": "0238ac8e-ed0e-4bd6-ae60-fc4380935c46",
   "metadata": {},
   "source": [
    "Answer"
   ]
  },
  {
   "cell_type": "code",
   "execution_count": 39,
   "id": "4aa5721c-dcb2-4c27-a519-24d9eda40f48",
   "metadata": {},
   "outputs": [],
   "source": [
    "def find_duplicate_and_missing(nums) :\n",
    "    num_set = set()\n",
    "    duplicate = -1\n",
    "    missing = -1\n",
    "    \n",
    "    for num in nums :\n",
    "        if num in num_set :\n",
    "            duplicate = num\n",
    "        else:\n",
    "            num_set.add(num)\n",
    "        \n",
    "    for i in range(1, len(nums) + 1) :\n",
    "        if i not in num_set :\n",
    "            missing = i\n",
    "            \n",
    "    return [ duplicate, missing]"
   ]
  },
  {
   "cell_type": "code",
   "execution_count": 43,
   "id": "3739ddaa-c77d-4ff7-acde-fb33c0b96438",
   "metadata": {},
   "outputs": [
    {
     "name": "stdout",
     "output_type": "stream",
     "text": [
      "[2, 3]\n"
     ]
    }
   ],
   "source": [
    "nums = [1,2,2,4]\n",
    "print(find_duplicate_and_missing(nums))"
   ]
  },
  {
   "cell_type": "code",
   "execution_count": null,
   "id": "594abdd3-2467-4e15-9ed9-42ea689fecf0",
   "metadata": {},
   "outputs": [],
   "source": []
  }
 ],
 "metadata": {
  "kernelspec": {
   "display_name": "Python 3 (ipykernel)",
   "language": "python",
   "name": "python3"
  },
  "language_info": {
   "codemirror_mode": {
    "name": "ipython",
    "version": 3
   },
   "file_extension": ".py",
   "mimetype": "text/x-python",
   "name": "python",
   "nbconvert_exporter": "python",
   "pygments_lexer": "ipython3",
   "version": "3.10.8"
  }
 },
 "nbformat": 4,
 "nbformat_minor": 5
}
